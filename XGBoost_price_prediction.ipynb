{
 "cells": [
  {
   "cell_type": "code",
   "execution_count": null,
   "metadata": {},
   "outputs": [],
   "source": [
    "pip install xgboost"
   ]
  },
  {
   "cell_type": "code",
   "execution_count": null,
   "metadata": {},
   "outputs": [],
   "source": [
    "pip install graphviz"
   ]
  },
  {
   "cell_type": "code",
   "execution_count": 1,
   "metadata": {},
   "outputs": [],
   "source": [
    "#import modules and necessary dependencies\n",
    "import xgboost as xgb\n",
    "import matplotlib.pyplot as plt\n",
    "from sklearn.neighbors import KNeighborsClassifier\n",
    "import pandas as pd\n",
    "import numpy as np\n",
    "import os\n",
    "import seaborn as sns\n",
    "from sklearn.model_selection import train_test_split\n",
    "from sklearn.metrics import mean_squared_error\n"
   ]
  },
  {
   "cell_type": "code",
   "execution_count": 2,
   "metadata": {},
   "outputs": [
    {
     "data": {
      "text/html": [
       "<div>\n",
       "<style scoped>\n",
       "    .dataframe tbody tr th:only-of-type {\n",
       "        vertical-align: middle;\n",
       "    }\n",
       "\n",
       "    .dataframe tbody tr th {\n",
       "        vertical-align: top;\n",
       "    }\n",
       "\n",
       "    .dataframe thead th {\n",
       "        text-align: right;\n",
       "    }\n",
       "</style>\n",
       "<table border=\"1\" class=\"dataframe\">\n",
       "  <thead>\n",
       "    <tr style=\"text-align: right;\">\n",
       "      <th></th>\n",
       "      <th>id</th>\n",
       "      <th>name</th>\n",
       "      <th>host_id</th>\n",
       "      <th>host_name</th>\n",
       "      <th>neighbourhood_group</th>\n",
       "      <th>neighbourhood</th>\n",
       "      <th>latitude</th>\n",
       "      <th>longitude</th>\n",
       "      <th>room_type</th>\n",
       "      <th>price</th>\n",
       "      <th>minimum_nights</th>\n",
       "      <th>number_of_reviews</th>\n",
       "      <th>last_review</th>\n",
       "      <th>reviews_per_month</th>\n",
       "      <th>calculated_host_listings_count</th>\n",
       "      <th>availability_365</th>\n",
       "    </tr>\n",
       "  </thead>\n",
       "  <tbody>\n",
       "    <tr>\n",
       "      <th>0</th>\n",
       "      <td>2539</td>\n",
       "      <td>Clean &amp; quiet apt home by the park</td>\n",
       "      <td>2787</td>\n",
       "      <td>John</td>\n",
       "      <td>Brooklyn</td>\n",
       "      <td>Kensington</td>\n",
       "      <td>40.64749</td>\n",
       "      <td>-73.97237</td>\n",
       "      <td>Private room</td>\n",
       "      <td>149</td>\n",
       "      <td>1</td>\n",
       "      <td>9</td>\n",
       "      <td>2018-10-19</td>\n",
       "      <td>0.21</td>\n",
       "      <td>6</td>\n",
       "      <td>365</td>\n",
       "    </tr>\n",
       "    <tr>\n",
       "      <th>1</th>\n",
       "      <td>2595</td>\n",
       "      <td>Skylit Midtown Castle</td>\n",
       "      <td>2845</td>\n",
       "      <td>Jennifer</td>\n",
       "      <td>Manhattan</td>\n",
       "      <td>Midtown</td>\n",
       "      <td>40.75362</td>\n",
       "      <td>-73.98377</td>\n",
       "      <td>Entire home/apt</td>\n",
       "      <td>225</td>\n",
       "      <td>1</td>\n",
       "      <td>45</td>\n",
       "      <td>2019-05-21</td>\n",
       "      <td>0.38</td>\n",
       "      <td>2</td>\n",
       "      <td>355</td>\n",
       "    </tr>\n",
       "    <tr>\n",
       "      <th>2</th>\n",
       "      <td>3647</td>\n",
       "      <td>THE VILLAGE OF HARLEM....NEW YORK !</td>\n",
       "      <td>4632</td>\n",
       "      <td>Elisabeth</td>\n",
       "      <td>Manhattan</td>\n",
       "      <td>Harlem</td>\n",
       "      <td>40.80902</td>\n",
       "      <td>-73.94190</td>\n",
       "      <td>Private room</td>\n",
       "      <td>150</td>\n",
       "      <td>3</td>\n",
       "      <td>0</td>\n",
       "      <td>NaN</td>\n",
       "      <td>NaN</td>\n",
       "      <td>1</td>\n",
       "      <td>365</td>\n",
       "    </tr>\n",
       "    <tr>\n",
       "      <th>3</th>\n",
       "      <td>3831</td>\n",
       "      <td>Cozy Entire Floor of Brownstone</td>\n",
       "      <td>4869</td>\n",
       "      <td>LisaRoxanne</td>\n",
       "      <td>Brooklyn</td>\n",
       "      <td>Clinton Hill</td>\n",
       "      <td>40.68514</td>\n",
       "      <td>-73.95976</td>\n",
       "      <td>Entire home/apt</td>\n",
       "      <td>89</td>\n",
       "      <td>1</td>\n",
       "      <td>270</td>\n",
       "      <td>2019-07-05</td>\n",
       "      <td>4.64</td>\n",
       "      <td>1</td>\n",
       "      <td>194</td>\n",
       "    </tr>\n",
       "    <tr>\n",
       "      <th>4</th>\n",
       "      <td>5022</td>\n",
       "      <td>Entire Apt: Spacious Studio/Loft by central park</td>\n",
       "      <td>7192</td>\n",
       "      <td>Laura</td>\n",
       "      <td>Manhattan</td>\n",
       "      <td>East Harlem</td>\n",
       "      <td>40.79851</td>\n",
       "      <td>-73.94399</td>\n",
       "      <td>Entire home/apt</td>\n",
       "      <td>80</td>\n",
       "      <td>10</td>\n",
       "      <td>9</td>\n",
       "      <td>2018-11-19</td>\n",
       "      <td>0.10</td>\n",
       "      <td>1</td>\n",
       "      <td>0</td>\n",
       "    </tr>\n",
       "  </tbody>\n",
       "</table>\n",
       "</div>"
      ],
      "text/plain": [
       "     id                                              name  host_id  \\\n",
       "0  2539                Clean & quiet apt home by the park     2787   \n",
       "1  2595                             Skylit Midtown Castle     2845   \n",
       "2  3647               THE VILLAGE OF HARLEM....NEW YORK !     4632   \n",
       "3  3831                   Cozy Entire Floor of Brownstone     4869   \n",
       "4  5022  Entire Apt: Spacious Studio/Loft by central park     7192   \n",
       "\n",
       "     host_name neighbourhood_group neighbourhood  latitude  longitude  \\\n",
       "0         John            Brooklyn    Kensington  40.64749  -73.97237   \n",
       "1     Jennifer           Manhattan       Midtown  40.75362  -73.98377   \n",
       "2    Elisabeth           Manhattan        Harlem  40.80902  -73.94190   \n",
       "3  LisaRoxanne            Brooklyn  Clinton Hill  40.68514  -73.95976   \n",
       "4        Laura           Manhattan   East Harlem  40.79851  -73.94399   \n",
       "\n",
       "         room_type  price  minimum_nights  number_of_reviews last_review  \\\n",
       "0     Private room    149               1                  9  2018-10-19   \n",
       "1  Entire home/apt    225               1                 45  2019-05-21   \n",
       "2     Private room    150               3                  0         NaN   \n",
       "3  Entire home/apt     89               1                270  2019-07-05   \n",
       "4  Entire home/apt     80              10                  9  2018-11-19   \n",
       "\n",
       "   reviews_per_month  calculated_host_listings_count  availability_365  \n",
       "0               0.21                               6               365  \n",
       "1               0.38                               2               355  \n",
       "2                NaN                               1               365  \n",
       "3               4.64                               1               194  \n",
       "4               0.10                               1                 0  "
      ]
     },
     "execution_count": 2,
     "metadata": {},
     "output_type": "execute_result"
    }
   ],
   "source": [
    "#read the csv file\n",
    "df = pd.read_csv(os.path.join(\"Resources/AB_NYC_2019.csv\"))\n",
    "df.head()"
   ]
  },
  {
   "cell_type": "code",
   "execution_count": 3,
   "metadata": {},
   "outputs": [
    {
     "data": {
      "text/plain": [
       "(48895, 16)"
      ]
     },
     "execution_count": 3,
     "metadata": {},
     "output_type": "execute_result"
    }
   ],
   "source": [
    "#Check the size of the dataset\n",
    "df.shape"
   ]
  },
  {
   "cell_type": "code",
   "execution_count": 4,
   "metadata": {},
   "outputs": [
    {
     "data": {
      "text/plain": [
       "id                                  int64\n",
       "name                               object\n",
       "host_id                             int64\n",
       "host_name                          object\n",
       "neighbourhood_group                object\n",
       "neighbourhood                      object\n",
       "latitude                          float64\n",
       "longitude                         float64\n",
       "room_type                          object\n",
       "price                               int64\n",
       "minimum_nights                      int64\n",
       "number_of_reviews                   int64\n",
       "last_review                        object\n",
       "reviews_per_month                 float64\n",
       "calculated_host_listings_count      int64\n",
       "availability_365                    int64\n",
       "dtype: object"
      ]
     },
     "execution_count": 4,
     "metadata": {},
     "output_type": "execute_result"
    }
   ],
   "source": [
    "#Check data type\n",
    "df.dtypes"
   ]
  },
  {
   "cell_type": "code",
   "execution_count": 5,
   "metadata": {},
   "outputs": [
    {
     "data": {
      "text/plain": [
       "count    48895.000000\n",
       "mean       152.720687\n",
       "std        240.154170\n",
       "min          0.000000\n",
       "25%         69.000000\n",
       "50%        106.000000\n",
       "75%        175.000000\n",
       "max      10000.000000\n",
       "Name: price, dtype: float64"
      ]
     },
     "execution_count": 5,
     "metadata": {},
     "output_type": "execute_result"
    }
   ],
   "source": [
    "#analyze the test variable\n",
    "df[\"price\"].describe()"
   ]
  },
  {
   "cell_type": "code",
   "execution_count": 6,
   "metadata": {},
   "outputs": [
    {
     "data": {
      "image/png": "[encoded data removed]",
      "text/plain": [
       "<Figure size 432x288 with 1 Axes>"
      ]
     },
     "metadata": {
      "needs_background": "light"
     },
     "output_type": "display_data"
    }
   ],
   "source": [
    "#check the range of the price\n",
    "p1=sns.histplot(df[\"price\"])"
   ]
  },
  {
   "cell_type": "code",
   "execution_count": 7,
   "metadata": {},
   "outputs": [
    {
     "data": {
      "text/plain": [
       "(239, 16)"
      ]
     },
     "execution_count": 7,
     "metadata": {},
     "output_type": "execute_result"
    }
   ],
   "source": [
    "#check the size of prices above 1000\n",
    "df.loc[df[\"price\"]>1000].shape"
   ]
  },
  {
   "cell_type": "code",
   "execution_count": 8,
   "metadata": {},
   "outputs": [],
   "source": [
    "#drop the rows with price above 1000\n",
    "df=df[~(df[\"price\"]>1000)]"
   ]
  },
  {
   "cell_type": "code",
   "execution_count": 9,
   "metadata": {},
   "outputs": [
    {
     "data": {
      "image/png": "[encoded data removed]",
      "text/plain": [
       "<Figure size 432x288 with 1 Axes>"
      ]
     },
     "metadata": {
      "needs_background": "light"
     },
     "output_type": "display_data"
    }
   ],
   "source": [
    "#check for normal distribution\n",
    "p2=sns.histplot(df[\"price\"])"
   ]
  },
  {
   "cell_type": "code",
   "execution_count": 10,
   "metadata": {},
   "outputs": [],
   "source": [
    "#drop the rows with price above 1000\n",
    "df=df[~(df[\"price\"]>250)]"
   ]
  },
  {
   "cell_type": "code",
   "execution_count": 11,
   "metadata": {},
   "outputs": [
    {
     "data": {
      "text/plain": [
       "(43687, 16)"
      ]
     },
     "execution_count": 11,
     "metadata": {},
     "output_type": "execute_result"
    }
   ],
   "source": [
    "#final size of the dataset\n",
    "df.shape"
   ]
  },
  {
   "cell_type": "code",
   "execution_count": 12,
   "metadata": {},
   "outputs": [
    {
     "data": {
      "text/plain": [
       "count    43687.000000\n",
       "mean       111.209032\n",
       "std         57.331859\n",
       "min          0.000000\n",
       "25%         65.000000\n",
       "50%         99.000000\n",
       "75%        150.000000\n",
       "max        250.000000\n",
       "Name: price, dtype: float64"
      ]
     },
     "execution_count": 12,
     "metadata": {},
     "output_type": "execute_result"
    }
   ],
   "source": [
    "#get the summary statistics\n",
    "df[\"price\"].describe()"
   ]
  },
  {
   "cell_type": "code",
   "execution_count": 13,
   "metadata": {},
   "outputs": [],
   "source": [
    "#drop the columns that is not relevant\n",
    "df.drop([\"id\", \"name\", \"host_name\",\"host_id\",\"latitude\", \"longitude\",\"neighbourhood\",\"last_review\"], axis=1, inplace=True)"
   ]
  },
  {
   "cell_type": "code",
   "execution_count": 14,
   "metadata": {},
   "outputs": [
    {
     "name": "stdout",
     "output_type": "stream",
     "text": [
      "<class 'pandas.core.frame.DataFrame'>\n",
      "Int64Index: 43687 entries, 0 to 48894\n",
      "Data columns (total 8 columns):\n",
      " #   Column                          Non-Null Count  Dtype  \n",
      "---  ------                          --------------  -----  \n",
      " 0   neighbourhood_group             43687 non-null  object \n",
      " 1   room_type                       43687 non-null  object \n",
      " 2   price                           43687 non-null  int64  \n",
      " 3   minimum_nights                  43687 non-null  int64  \n",
      " 4   number_of_reviews               43687 non-null  int64  \n",
      " 5   reviews_per_month               35312 non-null  float64\n",
      " 6   calculated_host_listings_count  43687 non-null  int64  \n",
      " 7   availability_365                43687 non-null  int64  \n",
      "dtypes: float64(1), int64(5), object(2)\n",
      "memory usage: 3.0+ MB\n"
     ]
    }
   ],
   "source": [
    "#check for any missing data\n",
    "df.info()"
   ]
  },
  {
   "cell_type": "code",
   "execution_count": 15,
   "metadata": {},
   "outputs": [],
   "source": [
    "#fill in the missing values with appropriate data type\n",
    "\n",
    "df.fillna({\"reviews_per_month\":0}, inplace=True)"
   ]
  },
  {
   "cell_type": "code",
   "execution_count": 16,
   "metadata": {},
   "outputs": [
    {
     "name": "stdout",
     "output_type": "stream",
     "text": [
      "<class 'pandas.core.frame.DataFrame'>\n",
      "Int64Index: 43687 entries, 0 to 48894\n",
      "Data columns (total 8 columns):\n",
      " #   Column                          Non-Null Count  Dtype  \n",
      "---  ------                          --------------  -----  \n",
      " 0   neighbourhood_group             43687 non-null  object \n",
      " 1   room_type                       43687 non-null  object \n",
      " 2   price                           43687 non-null  int64  \n",
      " 3   minimum_nights                  43687 non-null  int64  \n",
      " 4   number_of_reviews               43687 non-null  int64  \n",
      " 5   reviews_per_month               43687 non-null  float64\n",
      " 6   calculated_host_listings_count  43687 non-null  int64  \n",
      " 7   availability_365                43687 non-null  int64  \n",
      "dtypes: float64(1), int64(5), object(2)\n",
      "memory usage: 3.0+ MB\n"
     ]
    }
   ],
   "source": [
    "df.info()"
   ]
  },
  {
   "cell_type": "code",
   "execution_count": 17,
   "metadata": {},
   "outputs": [
    {
     "data": {
      "image/png": "[encoded data removed]",
      "text/plain": [
       "<Figure size 864x648 with 2 Axes>"
      ]
     },
     "metadata": {
      "needs_background": "light"
     },
     "output_type": "display_data"
    }
   ],
   "source": [
    "#correlation between the target and the features\n",
    "df2=pd.get_dummies(df)\n",
    "\n",
    "corr = df2.corr()\n",
    "f, ax = plt.subplots(figsize=(12,9))\n",
    ",\n",
    "sns.heatmap(corr, cbar=True, annot=True, square=True, fmt='.2f', yticklabels=corr.columns, xticklabels=corr.columns)\n",
    "plt.show()"
   ]
  },
  {
   "cell_type": "code",
   "execution_count": 18,
   "metadata": {},
   "outputs": [],
   "source": [
    "#get the features and the target\n",
    "X=df[[\"reviews_per_month\",\"neighbourhood_group\",\"room_type\",\"availability_365\"]]"
   ]
  },
  {
   "cell_type": "code",
   "execution_count": 19,
   "metadata": {},
   "outputs": [],
   "source": [
    "#convert strings into numbers and assign price as the target\n",
    "X= pd.get_dummies(X)\n",
    "y=df[\"price\"]"
   ]
  },
  {
   "cell_type": "code",
   "execution_count": 38,
   "metadata": {},
   "outputs": [
    {
     "name": "stdout",
     "output_type": "stream",
     "text": [
      "(43687, 10)\n",
      "(43687,)\n"
     ]
    }
   ],
   "source": [
    "#check the size \n",
    "print(X.shape)\n",
    "print(y.shape)"
   ]
  },
  {
   "cell_type": "code",
   "execution_count": 39,
   "metadata": {},
   "outputs": [],
   "source": [
    "#split the dataset into  80% training and 20% testing\n",
    "X_train, X_test, y_train, y_test = train_test_split(X, y,test_size=0.25, random_state=1)"
   ]
  },
  {
   "cell_type": "code",
   "execution_count": 40,
   "metadata": {},
   "outputs": [
    {
     "data": {
      "text/plain": [
       "<AxesSubplot:ylabel='Count'>"
      ]
     },
     "execution_count": 40,
     "metadata": {},
     "output_type": "execute_result"
    },
    {
     "data": {
      "image/png": "[encoded data removed]",
      "text/plain": [
       "<Figure size 432x288 with 1 Axes>"
      ]
     },
     "metadata": {
      "needs_background": "light"
     },
     "output_type": "display_data"
    }
   ],
   "source": [
    "sns.histplot(pd.DataFrame(y_train))"
   ]
  },
  {
   "cell_type": "code",
   "execution_count": 41,
   "metadata": {},
   "outputs": [
    {
     "data": {
      "text/plain": [
       "<AxesSubplot:ylabel='Count'>"
      ]
     },
     "execution_count": 41,
     "metadata": {},
     "output_type": "execute_result"
    },
    {
     "data": {
      "image/png": "[encoded data removed]",
      "text/plain": [
       "<Figure size 432x288 with 1 Axes>"
      ]
     },
     "metadata": {
      "needs_background": "light"
     },
     "output_type": "display_data"
    }
   ],
   "source": [
    "sns.histplot(pd.DataFrame(y_test))"
   ]
  },
  {
   "cell_type": "code",
   "execution_count": 42,
   "metadata": {},
   "outputs": [],
   "source": [
    "#build dmatrices form the datasets\n",
    "dtrain = xgb.DMatrix(X_train, label=y_train)\n",
    "dtest = xgb.DMatrix(X_test, label=y_test)"
   ]
  },
  {
   "cell_type": "code",
   "execution_count": 43,
   "metadata": {},
   "outputs": [
    {
     "name": "stdout",
     "output_type": "stream",
     "text": [
      "Baseline RMSE: 57.240314\n"
     ]
    }
   ],
   "source": [
    "# \"Learn\" the mean from the training data\n",
    "mean_train = np.mean(y_train)\n",
    "# Get predictions on the test set\n",
    "baseline_predictions = np.ones(y_test.shape) * mean_train\n",
    "# Compute MAE\n",
    "\n",
    "rmse = np.sqrt(mean_squared_error(y_test, baseline_predictions))\n",
    "print(\"Baseline RMSE: %f\" % (rmse))"
   ]
  },
  {
   "cell_type": "code",
   "execution_count": 44,
   "metadata": {},
   "outputs": [],
   "source": [
    "#set the paramaters with default values\n",
    "params = {\n",
    "    # Parameters that we are going to tune.\n",
    "    'max_depth':6,\n",
    "    'min_child_weight':1,\n",
    "    'eta':.1,\n",
    "    'subsample': 0.1,\n",
    "    'colsample_bytree': 1,\n",
    "    # Other parameters\n",
    "    'objective':'reg:squarederror'    \n",
    "}"
   ]
  },
  {
   "cell_type": "code",
   "execution_count": 45,
   "metadata": {},
   "outputs": [],
   "source": [
    "#add the evaluation metric root mean squared error\n",
    "params['eval_metric'] = \"rmse\""
   ]
  },
  {
   "cell_type": "code",
   "execution_count": 46,
   "metadata": {},
   "outputs": [],
   "source": [
    "#set the max boosting rounds\n",
    "num_boost_round = 100"
   ]
  },
  {
   "cell_type": "code",
   "execution_count": 47,
   "metadata": {},
   "outputs": [
    {
     "name": "stdout",
     "output_type": "stream",
     "text": [
      "[0]\tTest-rmse:112.91773\n",
      "[1]\tTest-rmse:103.18291\n",
      "[2]\tTest-rmse:94.58810\n",
      "[3]\tTest-rmse:87.01001\n",
      "[4]\tTest-rmse:80.31055\n",
      "[5]\tTest-rmse:74.40402\n",
      "[6]\tTest-rmse:69.24835\n",
      "[7]\tTest-rmse:64.85741\n",
      "[8]\tTest-rmse:60.97772\n",
      "[9]\tTest-rmse:57.60058\n",
      "[10]\tTest-rmse:54.75179\n",
      "[11]\tTest-rmse:52.30317\n",
      "[12]\tTest-rmse:50.26772\n",
      "[13]\tTest-rmse:48.50156\n",
      "[14]\tTest-rmse:47.03014\n",
      "[15]\tTest-rmse:45.82133\n",
      "[16]\tTest-rmse:44.85965\n",
      "[17]\tTest-rmse:44.12112\n",
      "[18]\tTest-rmse:43.49801\n",
      "[19]\tTest-rmse:42.95589\n",
      "[20]\tTest-rmse:42.51474\n",
      "[21]\tTest-rmse:42.08004\n",
      "[22]\tTest-rmse:41.76212\n",
      "[23]\tTest-rmse:41.49608\n",
      "[24]\tTest-rmse:41.29223\n",
      "[25]\tTest-rmse:41.12477\n",
      "[26]\tTest-rmse:40.98409\n",
      "[27]\tTest-rmse:40.89716\n",
      "[28]\tTest-rmse:40.79871\n",
      "[29]\tTest-rmse:40.74050\n",
      "[30]\tTest-rmse:40.67063\n",
      "[31]\tTest-rmse:40.64066\n",
      "[32]\tTest-rmse:40.60834\n",
      "[33]\tTest-rmse:40.57383\n",
      "[34]\tTest-rmse:40.55176\n",
      "[35]\tTest-rmse:40.53639\n",
      "[36]\tTest-rmse:40.52537\n",
      "[37]\tTest-rmse:40.51077\n",
      "[38]\tTest-rmse:40.51046\n",
      "[39]\tTest-rmse:40.51326\n",
      "[40]\tTest-rmse:40.52545\n",
      "[41]\tTest-rmse:40.51405\n",
      "[42]\tTest-rmse:40.50896\n",
      "[43]\tTest-rmse:40.50474\n",
      "[44]\tTest-rmse:40.48492\n",
      "[45]\tTest-rmse:40.48751\n",
      "[46]\tTest-rmse:40.48396\n",
      "[47]\tTest-rmse:40.49363\n",
      "[48]\tTest-rmse:40.50180\n",
      "[49]\tTest-rmse:40.48400\n",
      "[50]\tTest-rmse:40.48960\n",
      "[51]\tTest-rmse:40.49259\n",
      "[52]\tTest-rmse:40.50274\n",
      "[53]\tTest-rmse:40.50019\n",
      "[54]\tTest-rmse:40.49990\n",
      "[55]\tTest-rmse:40.49741\n"
     ]
    }
   ],
   "source": [
    "#pass more parameters on top of the default parameters\n",
    "model = xgb.train(\n",
    "    params,\n",
    "    dtrain,\n",
    "    num_boost_round=num_boost_round,\n",
    "    evals=[(dtest, \"Test\")],\n",
    "    early_stopping_rounds=10\n",
    ")"
   ]
  },
  {
   "cell_type": "code",
   "execution_count": 48,
   "metadata": {
    "scrolled": true
   },
   "outputs": [
    {
     "name": "stdout",
     "output_type": "stream",
     "text": [
      "Best RMSE: 40.48 with 47 rounds\n"
     ]
    }
   ],
   "source": [
    "# get the best RMSE\n",
    "print(\"Best RMSE: {:.2f} with {} rounds\".format(\n",
    "                 model.best_score,\n",
    "                 model.best_iteration+1))"
   ]
  },
  {
   "cell_type": "code",
   "execution_count": 31,
   "metadata": {},
   "outputs": [
    {
     "data": {
      "text/html": [
       "<div>\n",
       "<style scoped>\n",
       "    .dataframe tbody tr th:only-of-type {\n",
       "        vertical-align: middle;\n",
       "    }\n",
       "\n",
       "    .dataframe tbody tr th {\n",
       "        vertical-align: top;\n",
       "    }\n",
       "\n",
       "    .dataframe thead th {\n",
       "        text-align: right;\n",
       "    }\n",
       "</style>\n",
       "<table border=\"1\" class=\"dataframe\">\n",
       "  <thead>\n",
       "    <tr style=\"text-align: right;\">\n",
       "      <th></th>\n",
       "      <th>train-rmse-mean</th>\n",
       "      <th>train-rmse-std</th>\n",
       "      <th>test-rmse-mean</th>\n",
       "      <th>test-rmse-std</th>\n",
       "    </tr>\n",
       "  </thead>\n",
       "  <tbody>\n",
       "    <tr>\n",
       "      <th>0</th>\n",
       "      <td>113.941048</td>\n",
       "      <td>0.126640</td>\n",
       "      <td>113.945610</td>\n",
       "      <td>0.246249</td>\n",
       "    </tr>\n",
       "    <tr>\n",
       "      <th>1</th>\n",
       "      <td>104.205834</td>\n",
       "      <td>0.125782</td>\n",
       "      <td>104.207456</td>\n",
       "      <td>0.259138</td>\n",
       "    </tr>\n",
       "    <tr>\n",
       "      <th>2</th>\n",
       "      <td>95.533722</td>\n",
       "      <td>0.075538</td>\n",
       "      <td>95.545219</td>\n",
       "      <td>0.303252</td>\n",
       "    </tr>\n",
       "    <tr>\n",
       "      <th>3</th>\n",
       "      <td>87.917275</td>\n",
       "      <td>0.171472</td>\n",
       "      <td>87.945325</td>\n",
       "      <td>0.299931</td>\n",
       "    </tr>\n",
       "    <tr>\n",
       "      <th>4</th>\n",
       "      <td>81.168836</td>\n",
       "      <td>0.089403</td>\n",
       "      <td>81.216169</td>\n",
       "      <td>0.336260</td>\n",
       "    </tr>\n",
       "    <tr>\n",
       "      <th>5</th>\n",
       "      <td>75.297668</td>\n",
       "      <td>0.129760</td>\n",
       "      <td>75.370150</td>\n",
       "      <td>0.290210</td>\n",
       "    </tr>\n",
       "    <tr>\n",
       "      <th>6</th>\n",
       "      <td>70.153053</td>\n",
       "      <td>0.106293</td>\n",
       "      <td>70.249601</td>\n",
       "      <td>0.320589</td>\n",
       "    </tr>\n",
       "    <tr>\n",
       "      <th>7</th>\n",
       "      <td>65.658551</td>\n",
       "      <td>0.166392</td>\n",
       "      <td>65.771367</td>\n",
       "      <td>0.269315</td>\n",
       "    </tr>\n",
       "    <tr>\n",
       "      <th>8</th>\n",
       "      <td>61.747894</td>\n",
       "      <td>0.150512</td>\n",
       "      <td>61.887368</td>\n",
       "      <td>0.305159</td>\n",
       "    </tr>\n",
       "    <tr>\n",
       "      <th>9</th>\n",
       "      <td>58.403484</td>\n",
       "      <td>0.169580</td>\n",
       "      <td>58.580638</td>\n",
       "      <td>0.324941</td>\n",
       "    </tr>\n",
       "    <tr>\n",
       "      <th>10</th>\n",
       "      <td>55.520128</td>\n",
       "      <td>0.202464</td>\n",
       "      <td>55.729782</td>\n",
       "      <td>0.320033</td>\n",
       "    </tr>\n",
       "    <tr>\n",
       "      <th>11</th>\n",
       "      <td>53.139665</td>\n",
       "      <td>0.225079</td>\n",
       "      <td>53.379429</td>\n",
       "      <td>0.334559</td>\n",
       "    </tr>\n",
       "    <tr>\n",
       "      <th>12</th>\n",
       "      <td>51.066898</td>\n",
       "      <td>0.212394</td>\n",
       "      <td>51.321645</td>\n",
       "      <td>0.384485</td>\n",
       "    </tr>\n",
       "    <tr>\n",
       "      <th>13</th>\n",
       "      <td>49.346415</td>\n",
       "      <td>0.214585</td>\n",
       "      <td>49.615852</td>\n",
       "      <td>0.430304</td>\n",
       "    </tr>\n",
       "    <tr>\n",
       "      <th>14</th>\n",
       "      <td>47.915143</td>\n",
       "      <td>0.229146</td>\n",
       "      <td>48.220730</td>\n",
       "      <td>0.407668</td>\n",
       "    </tr>\n",
       "    <tr>\n",
       "      <th>15</th>\n",
       "      <td>46.634115</td>\n",
       "      <td>0.233078</td>\n",
       "      <td>46.966534</td>\n",
       "      <td>0.400432</td>\n",
       "    </tr>\n",
       "    <tr>\n",
       "      <th>16</th>\n",
       "      <td>45.595022</td>\n",
       "      <td>0.232752</td>\n",
       "      <td>45.948752</td>\n",
       "      <td>0.375334</td>\n",
       "    </tr>\n",
       "    <tr>\n",
       "      <th>17</th>\n",
       "      <td>44.738348</td>\n",
       "      <td>0.246792</td>\n",
       "      <td>45.118646</td>\n",
       "      <td>0.348689</td>\n",
       "    </tr>\n",
       "    <tr>\n",
       "      <th>18</th>\n",
       "      <td>44.006155</td>\n",
       "      <td>0.252855</td>\n",
       "      <td>44.407701</td>\n",
       "      <td>0.338493</td>\n",
       "    </tr>\n",
       "    <tr>\n",
       "      <th>19</th>\n",
       "      <td>43.392861</td>\n",
       "      <td>0.264423</td>\n",
       "      <td>43.821858</td>\n",
       "      <td>0.329012</td>\n",
       "    </tr>\n",
       "    <tr>\n",
       "      <th>20</th>\n",
       "      <td>42.875473</td>\n",
       "      <td>0.258848</td>\n",
       "      <td>43.318457</td>\n",
       "      <td>0.346325</td>\n",
       "    </tr>\n",
       "    <tr>\n",
       "      <th>21</th>\n",
       "      <td>42.464794</td>\n",
       "      <td>0.272113</td>\n",
       "      <td>42.918212</td>\n",
       "      <td>0.346615</td>\n",
       "    </tr>\n",
       "    <tr>\n",
       "      <th>22</th>\n",
       "      <td>42.119174</td>\n",
       "      <td>0.266279</td>\n",
       "      <td>42.613481</td>\n",
       "      <td>0.363741</td>\n",
       "    </tr>\n",
       "    <tr>\n",
       "      <th>23</th>\n",
       "      <td>41.817923</td>\n",
       "      <td>0.277802</td>\n",
       "      <td>42.355250</td>\n",
       "      <td>0.346478</td>\n",
       "    </tr>\n",
       "    <tr>\n",
       "      <th>24</th>\n",
       "      <td>41.579309</td>\n",
       "      <td>0.252100</td>\n",
       "      <td>42.135743</td>\n",
       "      <td>0.366610</td>\n",
       "    </tr>\n",
       "    <tr>\n",
       "      <th>25</th>\n",
       "      <td>41.387326</td>\n",
       "      <td>0.264107</td>\n",
       "      <td>41.965936</td>\n",
       "      <td>0.354589</td>\n",
       "    </tr>\n",
       "    <tr>\n",
       "      <th>26</th>\n",
       "      <td>41.227821</td>\n",
       "      <td>0.269389</td>\n",
       "      <td>41.842736</td>\n",
       "      <td>0.349555</td>\n",
       "    </tr>\n",
       "    <tr>\n",
       "      <th>27</th>\n",
       "      <td>41.084644</td>\n",
       "      <td>0.279401</td>\n",
       "      <td>41.730569</td>\n",
       "      <td>0.339207</td>\n",
       "    </tr>\n",
       "    <tr>\n",
       "      <th>28</th>\n",
       "      <td>40.965891</td>\n",
       "      <td>0.272529</td>\n",
       "      <td>41.630471</td>\n",
       "      <td>0.346214</td>\n",
       "    </tr>\n",
       "    <tr>\n",
       "      <th>29</th>\n",
       "      <td>40.865410</td>\n",
       "      <td>0.260317</td>\n",
       "      <td>41.551237</td>\n",
       "      <td>0.372398</td>\n",
       "    </tr>\n",
       "    <tr>\n",
       "      <th>30</th>\n",
       "      <td>40.795662</td>\n",
       "      <td>0.251658</td>\n",
       "      <td>41.499931</td>\n",
       "      <td>0.374340</td>\n",
       "    </tr>\n",
       "    <tr>\n",
       "      <th>31</th>\n",
       "      <td>40.730268</td>\n",
       "      <td>0.235490</td>\n",
       "      <td>41.446444</td>\n",
       "      <td>0.383690</td>\n",
       "    </tr>\n",
       "    <tr>\n",
       "      <th>32</th>\n",
       "      <td>40.673884</td>\n",
       "      <td>0.224740</td>\n",
       "      <td>41.405092</td>\n",
       "      <td>0.395727</td>\n",
       "    </tr>\n",
       "    <tr>\n",
       "      <th>33</th>\n",
       "      <td>40.622504</td>\n",
       "      <td>0.225269</td>\n",
       "      <td>41.384009</td>\n",
       "      <td>0.402269</td>\n",
       "    </tr>\n",
       "    <tr>\n",
       "      <th>34</th>\n",
       "      <td>40.572032</td>\n",
       "      <td>0.223138</td>\n",
       "      <td>41.353986</td>\n",
       "      <td>0.401712</td>\n",
       "    </tr>\n",
       "    <tr>\n",
       "      <th>35</th>\n",
       "      <td>40.536196</td>\n",
       "      <td>0.223179</td>\n",
       "      <td>41.334568</td>\n",
       "      <td>0.394381</td>\n",
       "    </tr>\n",
       "    <tr>\n",
       "      <th>36</th>\n",
       "      <td>40.504239</td>\n",
       "      <td>0.227039</td>\n",
       "      <td>41.311136</td>\n",
       "      <td>0.385421</td>\n",
       "    </tr>\n",
       "    <tr>\n",
       "      <th>37</th>\n",
       "      <td>40.478327</td>\n",
       "      <td>0.223672</td>\n",
       "      <td>41.295842</td>\n",
       "      <td>0.394984</td>\n",
       "    </tr>\n",
       "    <tr>\n",
       "      <th>38</th>\n",
       "      <td>40.453406</td>\n",
       "      <td>0.213624</td>\n",
       "      <td>41.294732</td>\n",
       "      <td>0.382626</td>\n",
       "    </tr>\n",
       "    <tr>\n",
       "      <th>39</th>\n",
       "      <td>40.426451</td>\n",
       "      <td>0.212695</td>\n",
       "      <td>41.280192</td>\n",
       "      <td>0.387127</td>\n",
       "    </tr>\n",
       "    <tr>\n",
       "      <th>40</th>\n",
       "      <td>40.402866</td>\n",
       "      <td>0.211190</td>\n",
       "      <td>41.274727</td>\n",
       "      <td>0.384687</td>\n",
       "    </tr>\n",
       "    <tr>\n",
       "      <th>41</th>\n",
       "      <td>40.381096</td>\n",
       "      <td>0.205790</td>\n",
       "      <td>41.274001</td>\n",
       "      <td>0.381658</td>\n",
       "    </tr>\n",
       "    <tr>\n",
       "      <th>42</th>\n",
       "      <td>40.355810</td>\n",
       "      <td>0.205016</td>\n",
       "      <td>41.259294</td>\n",
       "      <td>0.388637</td>\n",
       "    </tr>\n",
       "    <tr>\n",
       "      <th>43</th>\n",
       "      <td>40.334364</td>\n",
       "      <td>0.201760</td>\n",
       "      <td>41.258037</td>\n",
       "      <td>0.381518</td>\n",
       "    </tr>\n",
       "    <tr>\n",
       "      <th>44</th>\n",
       "      <td>40.317111</td>\n",
       "      <td>0.199426</td>\n",
       "      <td>41.252806</td>\n",
       "      <td>0.378206</td>\n",
       "    </tr>\n",
       "    <tr>\n",
       "      <th>45</th>\n",
       "      <td>40.299518</td>\n",
       "      <td>0.203008</td>\n",
       "      <td>41.249647</td>\n",
       "      <td>0.381368</td>\n",
       "    </tr>\n",
       "    <tr>\n",
       "      <th>46</th>\n",
       "      <td>40.279312</td>\n",
       "      <td>0.203499</td>\n",
       "      <td>41.243426</td>\n",
       "      <td>0.383338</td>\n",
       "    </tr>\n",
       "  </tbody>\n",
       "</table>\n",
       "</div>"
      ],
      "text/plain": [
       "    train-rmse-mean  train-rmse-std  test-rmse-mean  test-rmse-std\n",
       "0        113.941048        0.126640      113.945610       0.246249\n",
       "1        104.205834        0.125782      104.207456       0.259138\n",
       "2         95.533722        0.075538       95.545219       0.303252\n",
       "3         87.917275        0.171472       87.945325       0.299931\n",
       "4         81.168836        0.089403       81.216169       0.336260\n",
       "5         75.297668        0.129760       75.370150       0.290210\n",
       "6         70.153053        0.106293       70.249601       0.320589\n",
       "7         65.658551        0.166392       65.771367       0.269315\n",
       "8         61.747894        0.150512       61.887368       0.305159\n",
       "9         58.403484        0.169580       58.580638       0.324941\n",
       "10        55.520128        0.202464       55.729782       0.320033\n",
       "11        53.139665        0.225079       53.379429       0.334559\n",
       "12        51.066898        0.212394       51.321645       0.384485\n",
       "13        49.346415        0.214585       49.615852       0.430304\n",
       "14        47.915143        0.229146       48.220730       0.407668\n",
       "15        46.634115        0.233078       46.966534       0.400432\n",
       "16        45.595022        0.232752       45.948752       0.375334\n",
       "17        44.738348        0.246792       45.118646       0.348689\n",
       "18        44.006155        0.252855       44.407701       0.338493\n",
       "19        43.392861        0.264423       43.821858       0.329012\n",
       "20        42.875473        0.258848       43.318457       0.346325\n",
       "21        42.464794        0.272113       42.918212       0.346615\n",
       "22        42.119174        0.266279       42.613481       0.363741\n",
       "23        41.817923        0.277802       42.355250       0.346478\n",
       "24        41.579309        0.252100       42.135743       0.366610\n",
       "25        41.387326        0.264107       41.965936       0.354589\n",
       "26        41.227821        0.269389       41.842736       0.349555\n",
       "27        41.084644        0.279401       41.730569       0.339207\n",
       "28        40.965891        0.272529       41.630471       0.346214\n",
       "29        40.865410        0.260317       41.551237       0.372398\n",
       "30        40.795662        0.251658       41.499931       0.374340\n",
       "31        40.730268        0.235490       41.446444       0.383690\n",
       "32        40.673884        0.224740       41.405092       0.395727\n",
       "33        40.622504        0.225269       41.384009       0.402269\n",
       "34        40.572032        0.223138       41.353986       0.401712\n",
       "35        40.536196        0.223179       41.334568       0.394381\n",
       "36        40.504239        0.227039       41.311136       0.385421\n",
       "37        40.478327        0.223672       41.295842       0.394984\n",
       "38        40.453406        0.213624       41.294732       0.382626\n",
       "39        40.426451        0.212695       41.280192       0.387127\n",
       "40        40.402866        0.211190       41.274727       0.384687\n",
       "41        40.381096        0.205790       41.274001       0.381658\n",
       "42        40.355810        0.205016       41.259294       0.388637\n",
       "43        40.334364        0.201760       41.258037       0.381518\n",
       "44        40.317111        0.199426       41.252806       0.378206\n",
       "45        40.299518        0.203008       41.249647       0.381368\n",
       "46        40.279312        0.203499       41.243426       0.383338"
      ]
     },
     "execution_count": 31,
     "metadata": {},
     "output_type": "execute_result"
    }
   ],
   "source": [
    "#run cross validation on the training data to get the rmse score\n",
    "cv_results = xgb.cv(\n",
    "    params,\n",
    "    dtrain,\n",
    "    num_boost_round=num_boost_round,\n",
    "    seed=42,\n",
    "    nfold=3,\n",
    "    metrics={'rmse'},\n",
    "    early_stopping_rounds=10\n",
    ")\n",
    "\n",
    "cv_results"
   ]
  },
  {
   "cell_type": "code",
   "execution_count": 49,
   "metadata": {},
   "outputs": [
    {
     "data": {
      "text/plain": [
       "41.36557133333333"
      ]
     },
     "execution_count": 49,
     "metadata": {},
     "output_type": "execute_result"
    }
   ],
   "source": [
    "#get the min rmse score\n",
    "cv_results['test-rmse-mean'].min()"
   ]
  },
  {
   "cell_type": "code",
   "execution_count": 50,
   "metadata": {},
   "outputs": [],
   "source": [
    "#set the range of max_depth and min_child_weight\n",
    "gridsearch_params = [\n",
    "    (max_depth, min_child_weight)\n",
    "    for max_depth in range(2,15)\n",
    "    for min_child_weight in range(2,15)\n",
    "]"
   ]
  },
  {
   "cell_type": "code",
   "execution_count": 51,
   "metadata": {},
   "outputs": [
    {
     "name": "stdout",
     "output_type": "stream",
     "text": [
      "CV with max_depth=2, min_child_weight=2\n",
      "\tRMSE 41.224828333333335 for 99 rounds\n",
      "CV with max_depth=2, min_child_weight=3\n",
      "\tRMSE 41.22933066666667 for 99 rounds\n",
      "CV with max_depth=2, min_child_weight=4\n",
      "\tRMSE 41.226074000000004 for 99 rounds\n",
      "CV with max_depth=2, min_child_weight=5\n",
      "\tRMSE 41.22856633333333 for 82 rounds\n",
      "CV with max_depth=2, min_child_weight=6\n",
      "\tRMSE 41.23489133333333 for 82 rounds\n",
      "CV with max_depth=2, min_child_weight=7\n",
      "\tRMSE 41.22261566666666 for 98 rounds\n",
      "CV with max_depth=2, min_child_weight=8\n",
      "\tRMSE 41.22870133333333 for 82 rounds\n",
      "CV with max_depth=2, min_child_weight=9\n",
      "\tRMSE 41.22855633333333 for 94 rounds\n",
      "CV with max_depth=2, min_child_weight=10\n",
      "\tRMSE 41.22168466666667 for 94 rounds\n",
      "CV with max_depth=2, min_child_weight=11\n",
      "\tRMSE 41.220024 for 91 rounds\n",
      "CV with max_depth=2, min_child_weight=12\n",
      "\tRMSE 41.22279733333333 for 89 rounds\n",
      "CV with max_depth=2, min_child_weight=13\n",
      "\tRMSE 41.224334999999996 for 98 rounds\n",
      "CV with max_depth=2, min_child_weight=14\n",
      "\tRMSE 41.22212966666667 for 94 rounds\n",
      "CV with max_depth=3, min_child_weight=2\n",
      "\tRMSE 41.184161 for 61 rounds\n",
      "CV with max_depth=3, min_child_weight=3\n",
      "\tRMSE 41.174746 for 60 rounds\n",
      "CV with max_depth=3, min_child_weight=4\n",
      "\tRMSE 41.165072333333335 for 62 rounds\n",
      "CV with max_depth=3, min_child_weight=5\n",
      "\tRMSE 41.15686433333334 for 69 rounds\n",
      "CV with max_depth=3, min_child_weight=6\n",
      "\tRMSE 41.168434 for 69 rounds\n",
      "CV with max_depth=3, min_child_weight=7\n",
      "\tRMSE 41.15509666666667 for 63 rounds\n",
      "CV with max_depth=3, min_child_weight=8\n",
      "\tRMSE 41.156880666666666 for 62 rounds\n",
      "CV with max_depth=3, min_child_weight=9\n",
      "\tRMSE 41.15888 for 62 rounds\n",
      "CV with max_depth=3, min_child_weight=10\n",
      "\tRMSE 41.14784600000001 for 62 rounds\n",
      "CV with max_depth=3, min_child_weight=11\n",
      "\tRMSE 41.146576 for 69 rounds\n",
      "CV with max_depth=3, min_child_weight=12\n",
      "\tRMSE 41.160035333333326 for 69 rounds\n",
      "CV with max_depth=3, min_child_weight=13\n",
      "\tRMSE 41.15206799999999 for 62 rounds\n",
      "CV with max_depth=3, min_child_weight=14\n",
      "\tRMSE 41.14670433333333 for 69 rounds\n",
      "CV with max_depth=4, min_child_weight=2\n",
      "\tRMSE 41.198939 for 55 rounds\n",
      "CV with max_depth=4, min_child_weight=3\n",
      "\tRMSE 41.17248933333334 for 56 rounds\n",
      "CV with max_depth=4, min_child_weight=4\n",
      "\tRMSE 41.158827333333335 for 55 rounds\n",
      "CV with max_depth=4, min_child_weight=5\n",
      "\tRMSE 41.15872566666667 for 58 rounds\n",
      "CV with max_depth=4, min_child_weight=6\n",
      "\tRMSE 41.145265 for 55 rounds\n",
      "CV with max_depth=4, min_child_weight=7\n",
      "\tRMSE 41.141600333333336 for 55 rounds\n",
      "CV with max_depth=4, min_child_weight=8\n",
      "\tRMSE 41.14962533333333 for 56 rounds\n",
      "CV with max_depth=4, min_child_weight=9\n",
      "\tRMSE 41.144921333333336 for 56 rounds\n",
      "CV with max_depth=4, min_child_weight=10\n",
      "\tRMSE 41.13574 for 55 rounds\n",
      "CV with max_depth=4, min_child_weight=11\n",
      "\tRMSE 41.14967333333334 for 69 rounds\n",
      "CV with max_depth=4, min_child_weight=12\n",
      "\tRMSE 41.14796833333334 for 47 rounds\n",
      "CV with max_depth=4, min_child_weight=13\n",
      "\tRMSE 41.15717466666667 for 55 rounds\n",
      "CV with max_depth=4, min_child_weight=14\n",
      "\tRMSE 41.13863766666666 for 55 rounds\n",
      "CV with max_depth=5, min_child_weight=2\n",
      "\tRMSE 41.23530866666667 for 46 rounds\n",
      "CV with max_depth=5, min_child_weight=3\n",
      "\tRMSE 41.268537 for 41 rounds\n",
      "CV with max_depth=5, min_child_weight=4\n",
      "\tRMSE 41.24153366666667 for 44 rounds\n",
      "CV with max_depth=5, min_child_weight=5\n",
      "\tRMSE 41.232146 for 46 rounds\n",
      "CV with max_depth=5, min_child_weight=6\n",
      "\tRMSE 41.239618 for 44 rounds\n",
      "CV with max_depth=5, min_child_weight=7\n",
      "\tRMSE 41.21660966666667 for 44 rounds\n",
      "CV with max_depth=5, min_child_weight=8\n",
      "\tRMSE 41.22676466666667 for 55 rounds\n",
      "CV with max_depth=5, min_child_weight=9\n",
      "\tRMSE 41.228839666666666 for 44 rounds\n",
      "CV with max_depth=5, min_child_weight=10\n",
      "\tRMSE 41.223371 for 47 rounds\n",
      "CV with max_depth=5, min_child_weight=11\n",
      "\tRMSE 41.23181133333333 for 46 rounds\n",
      "CV with max_depth=5, min_child_weight=12\n",
      "\tRMSE 41.20558333333333 for 55 rounds\n",
      "CV with max_depth=5, min_child_weight=13\n",
      "\tRMSE 41.165232333333336 for 55 rounds\n",
      "CV with max_depth=5, min_child_weight=14\n",
      "\tRMSE 41.183581000000004 for 55 rounds\n",
      "CV with max_depth=6, min_child_weight=2\n",
      "\tRMSE 41.34823599999999 for 37 rounds\n",
      "CV with max_depth=6, min_child_weight=3\n",
      "\tRMSE 41.34023166666666 for 44 rounds\n",
      "CV with max_depth=6, min_child_weight=4\n",
      "\tRMSE 41.369761000000004 for 44 rounds\n",
      "CV with max_depth=6, min_child_weight=5\n",
      "\tRMSE 41.33409966666667 for 47 rounds\n",
      "CV with max_depth=6, min_child_weight=6\n",
      "\tRMSE 41.335313 for 44 rounds\n",
      "CV with max_depth=6, min_child_weight=7\n",
      "\tRMSE 41.29362366666666 for 46 rounds\n",
      "CV with max_depth=6, min_child_weight=8\n",
      "\tRMSE 41.31129966666666 for 41 rounds\n",
      "CV with max_depth=6, min_child_weight=9\n",
      "\tRMSE 41.26193466666667 for 44 rounds\n",
      "CV with max_depth=6, min_child_weight=10\n",
      "\tRMSE 41.27450666666667 for 46 rounds\n",
      "CV with max_depth=6, min_child_weight=11\n",
      "\tRMSE 41.28581366666667 for 46 rounds\n",
      "CV with max_depth=6, min_child_weight=12\n",
      "\tRMSE 41.29074466666666 for 46 rounds\n",
      "CV with max_depth=6, min_child_weight=13\n",
      "\tRMSE 41.285604 for 46 rounds\n",
      "CV with max_depth=6, min_child_weight=14\n",
      "\tRMSE 41.25435 for 46 rounds\n",
      "CV with max_depth=7, min_child_weight=2\n",
      "\tRMSE 41.53174466666667 for 42 rounds\n",
      "CV with max_depth=7, min_child_weight=3\n",
      "\tRMSE 41.490701 for 43 rounds\n",
      "CV with max_depth=7, min_child_weight=4\n",
      "\tRMSE 41.436259 for 36 rounds\n",
      "CV with max_depth=7, min_child_weight=5\n",
      "\tRMSE 41.400172000000005 for 38 rounds\n",
      "CV with max_depth=7, min_child_weight=6\n",
      "\tRMSE 41.40963 for 38 rounds\n",
      "CV with max_depth=7, min_child_weight=7\n",
      "\tRMSE 41.391982999999996 for 36 rounds\n",
      "CV with max_depth=7, min_child_weight=8\n",
      "\tRMSE 41.374811666666666 for 46 rounds\n",
      "CV with max_depth=7, min_child_weight=9\n",
      "\tRMSE 41.351577999999996 for 36 rounds\n",
      "CV with max_depth=7, min_child_weight=10\n",
      "\tRMSE 41.36060233333333 for 37 rounds\n",
      "CV with max_depth=7, min_child_weight=11\n",
      "\tRMSE 41.345132 for 46 rounds\n",
      "CV with max_depth=7, min_child_weight=12\n",
      "\tRMSE 41.341652 for 46 rounds\n",
      "CV with max_depth=7, min_child_weight=13\n",
      "\tRMSE 41.311253666666666 for 41 rounds\n",
      "CV with max_depth=7, min_child_weight=14\n",
      "\tRMSE 41.324398 for 44 rounds\n",
      "CV with max_depth=8, min_child_weight=2\n",
      "\tRMSE 41.561555 for 36 rounds\n",
      "CV with max_depth=8, min_child_weight=3\n",
      "\tRMSE 41.61657733333333 for 37 rounds\n",
      "CV with max_depth=8, min_child_weight=4\n",
      "\tRMSE 41.564626 for 37 rounds\n",
      "CV with max_depth=8, min_child_weight=5\n",
      "\tRMSE 41.52483133333333 for 38 rounds\n",
      "CV with max_depth=8, min_child_weight=6\n",
      "\tRMSE 41.51842366666667 for 39 rounds\n",
      "CV with max_depth=8, min_child_weight=7\n",
      "\tRMSE 41.476144 for 38 rounds\n",
      "CV with max_depth=8, min_child_weight=8\n",
      "\tRMSE 41.44669566666666 for 36 rounds\n",
      "CV with max_depth=8, min_child_weight=9\n",
      "\tRMSE 41.477027666666665 for 36 rounds\n",
      "CV with max_depth=8, min_child_weight=10\n",
      "\tRMSE 41.42638899999999 for 46 rounds\n",
      "CV with max_depth=8, min_child_weight=11\n",
      "\tRMSE 41.407284 for 36 rounds\n",
      "CV with max_depth=8, min_child_weight=12\n",
      "\tRMSE 41.372435333333335 for 44 rounds\n",
      "CV with max_depth=8, min_child_weight=13\n",
      "\tRMSE 41.362433333333335 for 36 rounds\n",
      "CV with max_depth=8, min_child_weight=14\n",
      "\tRMSE 41.358137666666664 for 43 rounds\n",
      "CV with max_depth=9, min_child_weight=2\n",
      "\tRMSE 41.687418666666666 for 36 rounds\n",
      "CV with max_depth=9, min_child_weight=3\n",
      "\tRMSE 41.756472333333335 for 36 rounds\n",
      "CV with max_depth=9, min_child_weight=4\n",
      "\tRMSE 41.64360533333333 for 37 rounds\n",
      "CV with max_depth=9, min_child_weight=5\n",
      "\tRMSE 41.621773 for 39 rounds\n",
      "CV with max_depth=9, min_child_weight=6\n",
      "\tRMSE 41.57298933333333 for 37 rounds\n",
      "CV with max_depth=9, min_child_weight=7\n",
      "\tRMSE 41.57374733333334 for 37 rounds\n",
      "CV with max_depth=9, min_child_weight=8\n",
      "\tRMSE 41.509453 for 36 rounds\n",
      "CV with max_depth=9, min_child_weight=9\n",
      "\tRMSE 41.48538966666667 for 36 rounds\n",
      "CV with max_depth=9, min_child_weight=10\n",
      "\tRMSE 41.471370666666665 for 39 rounds\n",
      "CV with max_depth=9, min_child_weight=11\n",
      "\tRMSE 41.44730366666667 for 37 rounds\n",
      "CV with max_depth=9, min_child_weight=12\n",
      "\tRMSE 41.412056 for 38 rounds\n",
      "CV with max_depth=9, min_child_weight=13\n",
      "\tRMSE 41.413704 for 36 rounds\n",
      "CV with max_depth=9, min_child_weight=14\n",
      "\tRMSE 41.381653 for 47 rounds\n",
      "CV with max_depth=10, min_child_weight=2\n",
      "\tRMSE 41.84918733333333 for 36 rounds\n",
      "CV with max_depth=10, min_child_weight=3\n",
      "\tRMSE 41.84976433333333 for 36 rounds\n",
      "CV with max_depth=10, min_child_weight=4\n",
      "\tRMSE 41.751836 for 37 rounds\n",
      "CV with max_depth=10, min_child_weight=5\n"
     ]
    },
    {
     "name": "stdout",
     "output_type": "stream",
     "text": [
      "\tRMSE 41.725212 for 37 rounds\n",
      "CV with max_depth=10, min_child_weight=6\n",
      "\tRMSE 41.66486866666667 for 36 rounds\n",
      "CV with max_depth=10, min_child_weight=7\n",
      "\tRMSE 41.625502000000004 for 37 rounds\n",
      "CV with max_depth=10, min_child_weight=8\n",
      "\tRMSE 41.553234 for 38 rounds\n",
      "CV with max_depth=10, min_child_weight=9\n",
      "\tRMSE 41.532447999999995 for 37 rounds\n",
      "CV with max_depth=10, min_child_weight=10\n",
      "\tRMSE 41.525531666666666 for 37 rounds\n",
      "CV with max_depth=10, min_child_weight=11\n",
      "\tRMSE 41.47486766666666 for 37 rounds\n",
      "CV with max_depth=10, min_child_weight=12\n",
      "\tRMSE 41.44186800000001 for 36 rounds\n",
      "CV with max_depth=10, min_child_weight=13\n",
      "\tRMSE 41.41540166666667 for 40 rounds\n",
      "CV with max_depth=10, min_child_weight=14\n",
      "\tRMSE 41.41785333333333 for 46 rounds\n",
      "CV with max_depth=11, min_child_weight=2\n",
      "\tRMSE 42.01285033333333 for 37 rounds\n",
      "CV with max_depth=11, min_child_weight=3\n",
      "\tRMSE 41.89744066666666 for 36 rounds\n",
      "CV with max_depth=11, min_child_weight=4\n",
      "\tRMSE 41.839273999999996 for 38 rounds\n",
      "CV with max_depth=11, min_child_weight=5\n",
      "\tRMSE 41.729050666666666 for 37 rounds\n",
      "CV with max_depth=11, min_child_weight=6\n",
      "\tRMSE 41.696246 for 36 rounds\n",
      "CV with max_depth=11, min_child_weight=7\n",
      "\tRMSE 41.64908466666666 for 38 rounds\n",
      "CV with max_depth=11, min_child_weight=8\n",
      "\tRMSE 41.55847666666667 for 37 rounds\n",
      "CV with max_depth=11, min_child_weight=9\n",
      "\tRMSE 41.60803466666666 for 37 rounds\n",
      "CV with max_depth=11, min_child_weight=10\n",
      "\tRMSE 41.58264833333334 for 36 rounds\n",
      "CV with max_depth=11, min_child_weight=11\n",
      "\tRMSE 41.533694000000004 for 36 rounds\n",
      "CV with max_depth=11, min_child_weight=12\n",
      "\tRMSE 41.489156 for 38 rounds\n",
      "CV with max_depth=11, min_child_weight=13\n",
      "\tRMSE 41.44964100000001 for 36 rounds\n",
      "CV with max_depth=11, min_child_weight=14\n",
      "\tRMSE 41.43730266666667 for 38 rounds\n",
      "CV with max_depth=12, min_child_weight=2\n",
      "\tRMSE 42.07924033333334 for 37 rounds\n",
      "CV with max_depth=12, min_child_weight=3\n",
      "\tRMSE 41.94671133333333 for 36 rounds\n",
      "CV with max_depth=12, min_child_weight=4\n",
      "\tRMSE 41.890644 for 37 rounds\n",
      "CV with max_depth=12, min_child_weight=5\n",
      "\tRMSE 41.733116333333335 for 37 rounds\n",
      "CV with max_depth=12, min_child_weight=6\n",
      "\tRMSE 41.73493833333334 for 37 rounds\n",
      "CV with max_depth=12, min_child_weight=7\n",
      "\tRMSE 41.691439333333335 for 39 rounds\n",
      "CV with max_depth=12, min_child_weight=8\n",
      "\tRMSE 41.647176 for 36 rounds\n",
      "CV with max_depth=12, min_child_weight=9\n",
      "\tRMSE 41.62527566666667 for 36 rounds\n",
      "CV with max_depth=12, min_child_weight=10\n",
      "\tRMSE 41.59494766666666 for 40 rounds\n",
      "CV with max_depth=12, min_child_weight=11\n",
      "\tRMSE 41.521306333333335 for 39 rounds\n",
      "CV with max_depth=12, min_child_weight=12\n",
      "\tRMSE 41.515443 for 41 rounds\n",
      "CV with max_depth=12, min_child_weight=13\n",
      "\tRMSE 41.48206833333334 for 38 rounds\n",
      "CV with max_depth=12, min_child_weight=14\n",
      "\tRMSE 41.457580666666665 for 36 rounds\n",
      "CV with max_depth=13, min_child_weight=2\n",
      "\tRMSE 42.128455 for 37 rounds\n",
      "CV with max_depth=13, min_child_weight=3\n",
      "\tRMSE 42.05422733333333 for 36 rounds\n",
      "CV with max_depth=13, min_child_weight=4\n",
      "\tRMSE 41.93043133333334 for 37 rounds\n",
      "CV with max_depth=13, min_child_weight=5\n",
      "\tRMSE 41.81146733333333 for 37 rounds\n",
      "CV with max_depth=13, min_child_weight=6\n",
      "\tRMSE 41.78739166666667 for 37 rounds\n",
      "CV with max_depth=13, min_child_weight=7\n",
      "\tRMSE 41.718307333333335 for 37 rounds\n",
      "CV with max_depth=13, min_child_weight=8\n",
      "\tRMSE 41.68198133333333 for 37 rounds\n",
      "CV with max_depth=13, min_child_weight=9\n",
      "\tRMSE 41.643362333333336 for 36 rounds\n",
      "CV with max_depth=13, min_child_weight=10\n",
      "\tRMSE 41.565538000000004 for 36 rounds\n",
      "CV with max_depth=13, min_child_weight=11\n",
      "\tRMSE 41.553629666666666 for 36 rounds\n",
      "CV with max_depth=13, min_child_weight=12\n",
      "\tRMSE 41.50049833333333 for 37 rounds\n",
      "CV with max_depth=13, min_child_weight=13\n",
      "\tRMSE 41.490874999999996 for 36 rounds\n",
      "CV with max_depth=13, min_child_weight=14\n",
      "\tRMSE 41.47624466666667 for 40 rounds\n",
      "CV with max_depth=14, min_child_weight=2\n",
      "\tRMSE 42.23706433333333 for 37 rounds\n",
      "CV with max_depth=14, min_child_weight=3\n",
      "\tRMSE 42.11003633333333 for 37 rounds\n",
      "CV with max_depth=14, min_child_weight=4\n",
      "\tRMSE 41.96528733333333 for 37 rounds\n",
      "CV with max_depth=14, min_child_weight=5\n",
      "\tRMSE 41.857791999999996 for 37 rounds\n",
      "CV with max_depth=14, min_child_weight=6\n",
      "\tRMSE 41.85386166666667 for 38 rounds\n",
      "CV with max_depth=14, min_child_weight=7\n",
      "\tRMSE 41.752247000000004 for 36 rounds\n",
      "CV with max_depth=14, min_child_weight=8\n",
      "\tRMSE 41.657969 for 37 rounds\n",
      "CV with max_depth=14, min_child_weight=9\n",
      "\tRMSE 41.719088 for 44 rounds\n",
      "CV with max_depth=14, min_child_weight=10\n",
      "\tRMSE 41.61403433333333 for 36 rounds\n",
      "CV with max_depth=14, min_child_weight=11\n",
      "\tRMSE 41.53276433333333 for 37 rounds\n",
      "CV with max_depth=14, min_child_weight=12\n",
      "\tRMSE 41.48028299999999 for 39 rounds\n",
      "CV with max_depth=14, min_child_weight=13\n",
      "\tRMSE 41.50077433333333 for 36 rounds\n",
      "CV with max_depth=14, min_child_weight=14\n",
      "\tRMSE 41.477000999999994 for 36 rounds\n",
      "Best params: 4, 10,RMSE: 41.13574\n",
      "Wall time: 6min 45s\n"
     ]
    }
   ],
   "source": [
    "%%time\n",
    "\n",
    "#set the initial best params and RMSE\n",
    "min_rmse = float(\"Inf\")\n",
    "best_params = None\n",
    "for max_depth, min_child_weight in gridsearch_params:\n",
    "    print(\"CV with max_depth={}, min_child_weight={}\".format(\n",
    "                             max_depth,\n",
    "                             min_child_weight))\n",
    "    # Update our parameters\n",
    "    params['max_depth'] = max_depth\n",
    "    params['min_child_weight'] = min_child_weight\n",
    "    # Run CV\n",
    "    cv_results = xgb.cv(\n",
    "        params,\n",
    "        dtrain,\n",
    "        num_boost_round=num_boost_round,\n",
    "        seed=42,\n",
    "        nfold=3,\n",
    "        metrics={'rmse'},\n",
    "        early_stopping_rounds=10\n",
    "    )\n",
    "    # Update best RMSE\n",
    "    mean_rmse = cv_results['test-rmse-mean'].min()\n",
    "    boost_rounds = cv_results['test-rmse-mean'].argmin()\n",
    "    print(\"\\tRMSE {} for {} rounds\".format(mean_rmse, boost_rounds))\n",
    "    if mean_rmse < min_rmse:\n",
    "        min_rmse = mean_rmse\n",
    "        best_params = (max_depth,min_child_weight)\n",
    "print(\"Best params: {}, {},RMSE: {}\".format(best_params[0], best_params[1], min_rmse))"
   ]
  },
  {
   "cell_type": "code",
   "execution_count": 52,
   "metadata": {},
   "outputs": [],
   "source": [
    "#update the params\n",
    "params['max_depth'] = 4\n",
    "params['min_child_weight'] =10"
   ]
  },
  {
   "cell_type": "code",
   "execution_count": 58,
   "metadata": {},
   "outputs": [],
   "source": [
    "#set the range for subsample and colsample\n",
    "gridsearch_params = [\n",
    "    (subsample, colsample)\n",
    "    for subsample in [i/10. for i in range(1,10)]\n",
    "    for colsample in [i/10. for i in range(1,10)]\n",
    "]"
   ]
  },
  {
   "cell_type": "code",
   "execution_count": 59,
   "metadata": {},
   "outputs": [
    {
     "name": "stdout",
     "output_type": "stream",
     "text": [
      "CV with subsample=0.9, colsample=0.9\n",
      "\tRMSE 41.03843966666667 for 83 rounds\n",
      "CV with subsample=0.9, colsample=0.8\n",
      "\tRMSE 41.04968766666667 for 87 rounds\n",
      "CV with subsample=0.9, colsample=0.7\n",
      "\tRMSE 41.056749 for 87 rounds\n",
      "CV with subsample=0.9, colsample=0.6\n",
      "\tRMSE 41.06824866666667 for 95 rounds\n",
      "CV with subsample=0.9, colsample=0.5\n",
      "\tRMSE 41.07906833333334 for 99 rounds\n",
      "CV with subsample=0.9, colsample=0.4\n",
      "\tRMSE 41.098875666666665 for 99 rounds\n",
      "CV with subsample=0.9, colsample=0.3\n",
      "\tRMSE 41.156210666666674 for 99 rounds\n",
      "CV with subsample=0.9, colsample=0.2\n",
      "\tRMSE 41.29998033333333 for 99 rounds\n",
      "CV with subsample=0.9, colsample=0.1\n",
      "\tRMSE 42.188217 for 99 rounds\n",
      "CV with subsample=0.8, colsample=0.9\n",
      "\tRMSE 41.02766166666667 for 75 rounds\n",
      "CV with subsample=0.8, colsample=0.8\n",
      "\tRMSE 41.034041333333334 for 79 rounds\n",
      "CV with subsample=0.8, colsample=0.7\n",
      "\tRMSE 41.052580666666664 for 87 rounds\n",
      "CV with subsample=0.8, colsample=0.6\n",
      "\tRMSE 41.06072633333333 for 91 rounds\n",
      "CV with subsample=0.8, colsample=0.5\n",
      "\tRMSE 41.076132666666666 for 85 rounds\n",
      "CV with subsample=0.8, colsample=0.4\n",
      "\tRMSE 41.096639 for 99 rounds\n",
      "CV with subsample=0.8, colsample=0.3\n",
      "\tRMSE 41.14517066666667 for 99 rounds\n",
      "CV with subsample=0.8, colsample=0.2\n",
      "\tRMSE 41.29995466666666 for 99 rounds\n",
      "CV with subsample=0.8, colsample=0.1\n",
      "\tRMSE 42.18591833333334 for 99 rounds\n",
      "CV with subsample=0.7, colsample=0.9\n",
      "\tRMSE 41.039847 for 80 rounds\n",
      "CV with subsample=0.7, colsample=0.8\n",
      "\tRMSE 41.05437466666667 for 93 rounds\n",
      "CV with subsample=0.7, colsample=0.7\n",
      "\tRMSE 41.052944333333336 for 70 rounds\n",
      "CV with subsample=0.7, colsample=0.6\n",
      "\tRMSE 41.063341666666666 for 99 rounds\n",
      "CV with subsample=0.7, colsample=0.5\n",
      "\tRMSE 41.07237366666667 for 99 rounds\n",
      "CV with subsample=0.7, colsample=0.4\n",
      "\tRMSE 41.095918000000005 for 98 rounds\n",
      "CV with subsample=0.7, colsample=0.3\n",
      "\tRMSE 41.14596566666666 for 98 rounds\n",
      "CV with subsample=0.7, colsample=0.2\n",
      "\tRMSE 41.299272 for 98 rounds\n",
      "CV with subsample=0.7, colsample=0.1\n",
      "\tRMSE 42.193823333333334 for 99 rounds\n",
      "CV with subsample=0.6, colsample=0.9\n",
      "\tRMSE 41.038081 for 82 rounds\n",
      "CV with subsample=0.6, colsample=0.8\n",
      "\tRMSE 41.061557666666666 for 77 rounds\n",
      "CV with subsample=0.6, colsample=0.7\n",
      "\tRMSE 41.04800666666667 for 80 rounds\n",
      "CV with subsample=0.6, colsample=0.6\n",
      "\tRMSE 41.06593733333333 for 85 rounds\n",
      "CV with subsample=0.6, colsample=0.5\n",
      "\tRMSE 41.07402666666667 for 81 rounds\n",
      "CV with subsample=0.6, colsample=0.4\n",
      "\tRMSE 41.10171866666667 for 92 rounds\n",
      "CV with subsample=0.6, colsample=0.3\n",
      "\tRMSE 41.149751 for 99 rounds\n",
      "CV with subsample=0.6, colsample=0.2\n",
      "\tRMSE 41.306366 for 98 rounds\n",
      "CV with subsample=0.6, colsample=0.1\n",
      "\tRMSE 42.19253766666666 for 99 rounds\n",
      "CV with subsample=0.5, colsample=0.9\n",
      "\tRMSE 41.044504999999994 for 80 rounds\n",
      "CV with subsample=0.5, colsample=0.8\n",
      "\tRMSE 41.03630433333333 for 80 rounds\n",
      "CV with subsample=0.5, colsample=0.7\n",
      "\tRMSE 41.06562666666667 for 80 rounds\n",
      "CV with subsample=0.5, colsample=0.6\n",
      "\tRMSE 41.07789333333333 for 80 rounds\n",
      "CV with subsample=0.5, colsample=0.5\n",
      "\tRMSE 41.088595000000005 for 85 rounds\n",
      "CV with subsample=0.5, colsample=0.4\n",
      "\tRMSE 41.115228333333334 for 98 rounds\n",
      "CV with subsample=0.5, colsample=0.3\n",
      "\tRMSE 41.156847666666664 for 99 rounds\n",
      "CV with subsample=0.5, colsample=0.2\n",
      "\tRMSE 41.303304 for 98 rounds\n",
      "CV with subsample=0.5, colsample=0.1\n",
      "\tRMSE 42.193554 for 99 rounds\n",
      "CV with subsample=0.4, colsample=0.9\n",
      "\tRMSE 41.06903333333333 for 64 rounds\n",
      "CV with subsample=0.4, colsample=0.8\n",
      "\tRMSE 41.063595 for 79 rounds\n",
      "CV with subsample=0.4, colsample=0.7\n",
      "\tRMSE 41.07180266666666 for 86 rounds\n",
      "CV with subsample=0.4, colsample=0.6\n",
      "\tRMSE 41.08452333333333 for 86 rounds\n",
      "CV with subsample=0.4, colsample=0.5\n",
      "\tRMSE 41.088100000000004 for 80 rounds\n",
      "CV with subsample=0.4, colsample=0.4\n",
      "\tRMSE 41.114802 for 82 rounds\n",
      "CV with subsample=0.4, colsample=0.3\n",
      "\tRMSE 41.16475033333334 for 93 rounds\n",
      "CV with subsample=0.4, colsample=0.2\n",
      "\tRMSE 41.31729633333333 for 98 rounds\n",
      "CV with subsample=0.4, colsample=0.1\n",
      "\tRMSE 42.19501266666666 for 98 rounds\n",
      "CV with subsample=0.3, colsample=0.9\n",
      "\tRMSE 41.080756 for 64 rounds\n",
      "CV with subsample=0.3, colsample=0.8\n",
      "\tRMSE 41.08207066666666 for 82 rounds\n",
      "CV with subsample=0.3, colsample=0.7\n",
      "\tRMSE 41.08793166666667 for 82 rounds\n",
      "CV with subsample=0.3, colsample=0.6\n",
      "\tRMSE 41.10066866666667 for 93 rounds\n",
      "CV with subsample=0.3, colsample=0.5\n",
      "\tRMSE 41.12913533333333 for 70 rounds\n",
      "CV with subsample=0.3, colsample=0.4\n",
      "\tRMSE 41.131686 for 98 rounds\n",
      "CV with subsample=0.3, colsample=0.3\n",
      "\tRMSE 41.18324033333334 for 98 rounds\n",
      "CV with subsample=0.3, colsample=0.2\n",
      "\tRMSE 41.327535000000005 for 99 rounds\n",
      "CV with subsample=0.3, colsample=0.1\n",
      "\tRMSE 42.204254 for 99 rounds\n",
      "CV with subsample=0.2, colsample=0.9\n",
      "\tRMSE 41.080794000000004 for 69 rounds\n",
      "CV with subsample=0.2, colsample=0.8\n",
      "\tRMSE 41.094589000000006 for 72 rounds\n",
      "CV with subsample=0.2, colsample=0.7\n",
      "\tRMSE 41.07772966666667 for 82 rounds\n",
      "CV with subsample=0.2, colsample=0.6\n",
      "\tRMSE 41.09888866666667 for 80 rounds\n",
      "CV with subsample=0.2, colsample=0.5\n",
      "\tRMSE 41.09487266666667 for 82 rounds\n",
      "CV with subsample=0.2, colsample=0.4\n",
      "\tRMSE 41.131916 for 82 rounds\n",
      "CV with subsample=0.2, colsample=0.3\n",
      "\tRMSE 41.213541666666664 for 86 rounds\n",
      "CV with subsample=0.2, colsample=0.2\n",
      "\tRMSE 41.31285333333333 for 98 rounds\n",
      "CV with subsample=0.2, colsample=0.1\n",
      "\tRMSE 42.19234566666666 for 99 rounds\n",
      "CV with subsample=0.1, colsample=0.9\n",
      "\tRMSE 41.148968 for 56 rounds\n",
      "CV with subsample=0.1, colsample=0.8\n",
      "\tRMSE 41.12836733333334 for 55 rounds\n",
      "CV with subsample=0.1, colsample=0.7\n",
      "\tRMSE 41.164856 for 62 rounds\n",
      "CV with subsample=0.1, colsample=0.6\n",
      "\tRMSE 41.16706833333333 for 63 rounds\n",
      "CV with subsample=0.1, colsample=0.5\n",
      "\tRMSE 41.213620666666664 for 58 rounds\n",
      "CV with subsample=0.1, colsample=0.4\n",
      "\tRMSE 41.240762 for 69 rounds\n",
      "CV with subsample=0.1, colsample=0.3\n",
      "\tRMSE 41.24823366666667 for 97 rounds\n",
      "CV with subsample=0.1, colsample=0.2\n",
      "\tRMSE 41.39712766666667 for 98 rounds\n",
      "CV with subsample=0.1, colsample=0.1\n",
      "\tRMSE 42.226734 for 98 rounds\n",
      "Best params: 0.8, 0.9, RMSE: 41.02766166666667\n",
      "Wall time: 3min 50s\n"
     ]
    }
   ],
   "source": [
    "%%time\n",
    "\n",
    "#set the initial best params and RMSE\n",
    "min_rmse = float(\"Inf\")\n",
    "best_params = None\n",
    "# We start by the largest values and go down to the smallest\n",
    "for subsample, colsample in reversed(gridsearch_params):\n",
    "    print(\"CV with subsample={}, colsample={}\".format(\n",
    "                             subsample,\n",
    "                             colsample))\n",
    "    # We update our parameters\n",
    "    params['subsample'] = subsample\n",
    "    params['colsample_bytree'] = colsample\n",
    "    # Run CV\n",
    "    cv_results = xgb.cv(\n",
    "        params,\n",
    "        dtrain,\n",
    "        num_boost_round=num_boost_round,\n",
    "        seed=42,\n",
    "        nfold=3,\n",
    "        metrics={'rmse'},\n",
    "        early_stopping_rounds=10\n",
    "    )\n",
    "    # Update best score\n",
    "    mean_rmse = cv_results['test-rmse-mean'].min()\n",
    "    boost_rounds = cv_results['test-rmse-mean'].argmin()\n",
    "    print(\"\\tRMSE {} for {} rounds\".format(mean_rmse, boost_rounds))\n",
    "    if mean_rmse < min_rmse:\n",
    "        min_rmse = mean_rmse\n",
    "        best_params = (subsample,colsample)\n",
    "print(\"Best params: {}, {}, RMSE: {}\".format(best_params[0], best_params[1], min_rmse))"
   ]
  },
  {
   "cell_type": "code",
   "execution_count": 60,
   "metadata": {},
   "outputs": [],
   "source": [
    "#update the params\n",
    "params['subsample'] = 0.8\n",
    "params['colsample_bytree'] = 0.9"
   ]
  },
  {
   "cell_type": "code",
   "execution_count": 61,
   "metadata": {},
   "outputs": [
    {
     "name": "stdout",
     "output_type": "stream",
     "text": [
      "CV with eta=0.3\n",
      "\tRMSE 41.079024000000004 for 24 rounds\n",
      "CV with eta=0.2\n",
      "\tRMSE 41.086208 for 33 rounds\n",
      "CV with eta=0.1\n",
      "\tRMSE 41.02766166666667 for 75 rounds\n",
      "CV with eta=0.05\n",
      "\tRMSE 41.091215999999996 for 99 rounds\n",
      "CV with eta=0.01\n",
      "\tRMSE 59.84946299999999 for 99 rounds\n",
      "CV with eta=0.02\n",
      "\tRMSE 44.15929566666666 for 99 rounds\n",
      "CV with eta=0.03\n",
      "\tRMSE 41.564811999999996 for 99 rounds\n",
      "Best params: 0.1, RMSE: 41.02766166666667\n",
      "Wall time: 19.8 s\n"
     ]
    }
   ],
   "source": [
    "%%time\n",
    "\n",
    "#set the initial best params and RMSE\n",
    "min_rmse = float(\"Inf\")\n",
    "best_params = None\n",
    "for eta in [.3, .2, .1, .05, .01, .02, .03]:\n",
    "    print(\"CV with eta={}\".format(eta))\n",
    "    # We update our parameters\n",
    "    params['eta'] = eta\n",
    "    # Run and CV\n",
    "    cv_results = xgb.cv(\n",
    "        params,\n",
    "        dtrain,\n",
    "        num_boost_round=num_boost_round,\n",
    "        seed=42,\n",
    "        nfold=3,\n",
    "        metrics={'rmse'},\n",
    "        early_stopping_rounds=10\n",
    "    )\n",
    "    # Update best score\n",
    "    mean_rmse = cv_results['test-rmse-mean'].min()\n",
    "    boost_rounds = cv_results['test-rmse-mean'].argmin()\n",
    "    print(\"\\tRMSE {} for {} rounds\".format(mean_rmse, boost_rounds))\n",
    "    if mean_rmse < min_rmse:\n",
    "        min_rmse = mean_rmse\n",
    "        best_params = eta\n",
    "print(\"Best params: {}, RMSE: {}\".format(best_params, min_rmse))"
   ]
  },
  {
   "cell_type": "code",
   "execution_count": 63,
   "metadata": {},
   "outputs": [],
   "source": [
    "#update the params\n",
    "params[\"eta\"] = 0.1"
   ]
  },
  {
   "cell_type": "code",
   "execution_count": 64,
   "metadata": {},
   "outputs": [
    {
     "data": {
      "text/plain": [
       "{'max_depth': 4,\n",
       " 'min_child_weight': 10,\n",
       " 'eta': 0.1,\n",
       " 'subsample': 0.8,\n",
       " 'colsample_bytree': 0.9,\n",
       " 'objective': 'reg:squarederror',\n",
       " 'eval_metric': 'rmse'}"
      ]
     },
     "execution_count": 64,
     "metadata": {},
     "output_type": "execute_result"
    }
   ],
   "source": [
    "#check the params\n",
    "params"
   ]
  },
  {
   "cell_type": "code",
   "execution_count": 65,
   "metadata": {
    "scrolled": true
   },
   "outputs": [
    {
     "name": "stdout",
     "output_type": "stream",
     "text": [
      "[0]\tTest-rmse:112.85892\n",
      "[1]\tTest-rmse:103.11093\n",
      "[2]\tTest-rmse:94.46691\n",
      "[3]\tTest-rmse:86.87593\n",
      "[4]\tTest-rmse:80.19037\n",
      "[5]\tTest-rmse:74.30361\n",
      "[6]\tTest-rmse:69.17808\n",
      "[7]\tTest-rmse:64.72030\n",
      "[8]\tTest-rmse:60.86711\n",
      "[9]\tTest-rmse:57.56965\n",
      "[10]\tTest-rmse:54.73562\n",
      "[11]\tTest-rmse:52.36700\n",
      "[12]\tTest-rmse:50.32706\n",
      "[13]\tTest-rmse:48.62685\n",
      "[14]\tTest-rmse:47.19284\n",
      "[15]\tTest-rmse:46.02365\n",
      "[16]\tTest-rmse:45.04219\n",
      "[17]\tTest-rmse:44.21636\n",
      "[18]\tTest-rmse:43.53568\n",
      "[19]\tTest-rmse:42.97332\n",
      "[20]\tTest-rmse:42.51296\n",
      "[21]\tTest-rmse:42.14659\n",
      "[22]\tTest-rmse:41.84081\n",
      "[23]\tTest-rmse:41.58230\n",
      "[24]\tTest-rmse:41.38118\n",
      "[25]\tTest-rmse:41.21146\n",
      "[26]\tTest-rmse:41.06899\n",
      "[27]\tTest-rmse:40.94979\n",
      "[28]\tTest-rmse:40.85510\n",
      "[29]\tTest-rmse:40.77177\n",
      "[30]\tTest-rmse:40.70957\n",
      "[31]\tTest-rmse:40.65721\n",
      "[32]\tTest-rmse:40.61198\n",
      "[33]\tTest-rmse:40.57515\n",
      "[34]\tTest-rmse:40.54306\n",
      "[35]\tTest-rmse:40.51272\n",
      "[36]\tTest-rmse:40.49428\n",
      "[37]\tTest-rmse:40.47624\n",
      "[38]\tTest-rmse:40.45741\n",
      "[39]\tTest-rmse:40.44114\n",
      "[40]\tTest-rmse:40.43047\n",
      "[41]\tTest-rmse:40.42086\n",
      "[42]\tTest-rmse:40.41392\n",
      "[43]\tTest-rmse:40.39994\n",
      "[44]\tTest-rmse:40.39088\n",
      "[45]\tTest-rmse:40.38702\n",
      "[46]\tTest-rmse:40.37372\n",
      "[47]\tTest-rmse:40.36779\n",
      "[48]\tTest-rmse:40.36472\n",
      "[49]\tTest-rmse:40.35806\n",
      "[50]\tTest-rmse:40.35541\n",
      "[51]\tTest-rmse:40.35460\n",
      "[52]\tTest-rmse:40.35416\n",
      "[53]\tTest-rmse:40.35365\n",
      "[54]\tTest-rmse:40.34658\n",
      "[55]\tTest-rmse:40.34290\n",
      "[56]\tTest-rmse:40.33857\n",
      "[57]\tTest-rmse:40.33657\n",
      "[58]\tTest-rmse:40.33452\n",
      "[59]\tTest-rmse:40.33339\n",
      "[60]\tTest-rmse:40.32800\n",
      "[61]\tTest-rmse:40.32426\n",
      "[62]\tTest-rmse:40.31972\n",
      "[63]\tTest-rmse:40.31787\n",
      "[64]\tTest-rmse:40.31677\n",
      "[65]\tTest-rmse:40.31486\n",
      "[66]\tTest-rmse:40.31408\n",
      "[67]\tTest-rmse:40.30968\n",
      "[68]\tTest-rmse:40.30892\n",
      "[69]\tTest-rmse:40.31027\n",
      "[70]\tTest-rmse:40.31252\n",
      "[71]\tTest-rmse:40.31138\n",
      "[72]\tTest-rmse:40.31128\n",
      "[73]\tTest-rmse:40.30725\n",
      "[74]\tTest-rmse:40.31037\n",
      "[75]\tTest-rmse:40.30901\n",
      "[76]\tTest-rmse:40.30848\n",
      "[77]\tTest-rmse:40.30769\n",
      "[78]\tTest-rmse:40.30684\n",
      "[79]\tTest-rmse:40.30455\n",
      "[80]\tTest-rmse:40.30621\n",
      "[81]\tTest-rmse:40.30740\n",
      "[82]\tTest-rmse:40.30984\n",
      "[83]\tTest-rmse:40.30911\n",
      "[84]\tTest-rmse:40.30891\n",
      "[85]\tTest-rmse:40.30895\n",
      "[86]\tTest-rmse:40.30570\n",
      "[87]\tTest-rmse:40.30301\n",
      "[88]\tTest-rmse:40.29890\n",
      "[89]\tTest-rmse:40.29890\n",
      "[90]\tTest-rmse:40.29739\n",
      "[91]\tTest-rmse:40.29568\n",
      "[92]\tTest-rmse:40.29673\n",
      "[93]\tTest-rmse:40.29739\n",
      "[94]\tTest-rmse:40.30007\n",
      "[95]\tTest-rmse:40.30022\n",
      "[96]\tTest-rmse:40.29969\n",
      "[97]\tTest-rmse:40.29742\n",
      "[98]\tTest-rmse:40.29719\n",
      "[99]\tTest-rmse:40.29525\n"
     ]
    }
   ],
   "source": [
    "model = xgb.train(\n",
    "    params,\n",
    "    dtrain,\n",
    "    num_boost_round=num_boost_round,\n",
    "    evals=[(dtest, \"Test\")],\n",
    "    early_stopping_rounds=10\n",
    ")"
   ]
  },
  {
   "cell_type": "code",
   "execution_count": 66,
   "metadata": {},
   "outputs": [
    {
     "name": "stdout",
     "output_type": "stream",
     "text": [
      "Best RMSE: 40.30 in 100 rounds\n"
     ]
    }
   ],
   "source": [
    "print(\"Best RMSE: {:.2f} in {} rounds\".format(model.best_score, model.best_iteration+1))"
   ]
  },
  {
   "cell_type": "code",
   "execution_count": 67,
   "metadata": {},
   "outputs": [
    {
     "name": "stdout",
     "output_type": "stream",
     "text": [
      "[0]\tTest-rmse:112.85892\n",
      "[1]\tTest-rmse:103.11093\n",
      "[2]\tTest-rmse:94.46691\n",
      "[3]\tTest-rmse:86.87593\n",
      "[4]\tTest-rmse:80.19037\n",
      "[5]\tTest-rmse:74.30361\n",
      "[6]\tTest-rmse:69.17808\n",
      "[7]\tTest-rmse:64.72030\n",
      "[8]\tTest-rmse:60.86711\n",
      "[9]\tTest-rmse:57.56965\n",
      "[10]\tTest-rmse:54.73562\n",
      "[11]\tTest-rmse:52.36700\n",
      "[12]\tTest-rmse:50.32706\n",
      "[13]\tTest-rmse:48.62685\n",
      "[14]\tTest-rmse:47.19284\n",
      "[15]\tTest-rmse:46.02365\n",
      "[16]\tTest-rmse:45.04219\n",
      "[17]\tTest-rmse:44.21636\n",
      "[18]\tTest-rmse:43.53568\n",
      "[19]\tTest-rmse:42.97332\n",
      "[20]\tTest-rmse:42.51296\n",
      "[21]\tTest-rmse:42.14659\n",
      "[22]\tTest-rmse:41.84081\n",
      "[23]\tTest-rmse:41.58230\n",
      "[24]\tTest-rmse:41.38118\n",
      "[25]\tTest-rmse:41.21146\n",
      "[26]\tTest-rmse:41.06899\n",
      "[27]\tTest-rmse:40.94979\n",
      "[28]\tTest-rmse:40.85510\n",
      "[29]\tTest-rmse:40.77177\n",
      "[30]\tTest-rmse:40.70957\n",
      "[31]\tTest-rmse:40.65721\n",
      "[32]\tTest-rmse:40.61198\n",
      "[33]\tTest-rmse:40.57515\n",
      "[34]\tTest-rmse:40.54306\n",
      "[35]\tTest-rmse:40.51272\n",
      "[36]\tTest-rmse:40.49428\n",
      "[37]\tTest-rmse:40.47624\n",
      "[38]\tTest-rmse:40.45741\n",
      "[39]\tTest-rmse:40.44114\n",
      "[40]\tTest-rmse:40.43047\n",
      "[41]\tTest-rmse:40.42086\n",
      "[42]\tTest-rmse:40.41392\n",
      "[43]\tTest-rmse:40.39994\n",
      "[44]\tTest-rmse:40.39088\n",
      "[45]\tTest-rmse:40.38702\n",
      "[46]\tTest-rmse:40.37372\n",
      "[47]\tTest-rmse:40.36779\n",
      "[48]\tTest-rmse:40.36472\n",
      "[49]\tTest-rmse:40.35806\n",
      "[50]\tTest-rmse:40.35541\n",
      "[51]\tTest-rmse:40.35460\n",
      "[52]\tTest-rmse:40.35416\n",
      "[53]\tTest-rmse:40.35365\n",
      "[54]\tTest-rmse:40.34658\n",
      "[55]\tTest-rmse:40.34290\n",
      "[56]\tTest-rmse:40.33857\n",
      "[57]\tTest-rmse:40.33657\n",
      "[58]\tTest-rmse:40.33452\n",
      "[59]\tTest-rmse:40.33339\n",
      "[60]\tTest-rmse:40.32800\n",
      "[61]\tTest-rmse:40.32426\n",
      "[62]\tTest-rmse:40.31972\n",
      "[63]\tTest-rmse:40.31787\n",
      "[64]\tTest-rmse:40.31677\n",
      "[65]\tTest-rmse:40.31486\n",
      "[66]\tTest-rmse:40.31408\n",
      "[67]\tTest-rmse:40.30968\n",
      "[68]\tTest-rmse:40.30892\n",
      "[69]\tTest-rmse:40.31027\n",
      "[70]\tTest-rmse:40.31252\n",
      "[71]\tTest-rmse:40.31138\n",
      "[72]\tTest-rmse:40.31128\n",
      "[73]\tTest-rmse:40.30725\n",
      "[74]\tTest-rmse:40.31037\n",
      "[75]\tTest-rmse:40.30901\n",
      "[76]\tTest-rmse:40.30848\n",
      "[77]\tTest-rmse:40.30769\n",
      "[78]\tTest-rmse:40.30684\n",
      "[79]\tTest-rmse:40.30455\n",
      "[80]\tTest-rmse:40.30621\n",
      "[81]\tTest-rmse:40.30740\n",
      "[82]\tTest-rmse:40.30984\n",
      "[83]\tTest-rmse:40.30911\n",
      "[84]\tTest-rmse:40.30891\n",
      "[85]\tTest-rmse:40.30895\n",
      "[86]\tTest-rmse:40.30570\n",
      "[87]\tTest-rmse:40.30301\n",
      "[88]\tTest-rmse:40.29890\n",
      "[89]\tTest-rmse:40.29890\n",
      "[90]\tTest-rmse:40.29739\n",
      "[91]\tTest-rmse:40.29568\n",
      "[92]\tTest-rmse:40.29673\n",
      "[93]\tTest-rmse:40.29739\n",
      "[94]\tTest-rmse:40.30007\n",
      "[95]\tTest-rmse:40.30022\n",
      "[96]\tTest-rmse:40.29969\n",
      "[97]\tTest-rmse:40.29742\n",
      "[98]\tTest-rmse:40.29719\n",
      "[99]\tTest-rmse:40.29525\n"
     ]
    }
   ],
   "source": [
    "num_boost_round = model.best_iteration + 1\n",
    "best_model = xgb.train(\n",
    "    params,\n",
    "    dtrain,\n",
    "    num_boost_round=num_boost_round,\n",
    "    evals=[(dtest, \"Test\")]\n",
    ")"
   ]
  },
  {
   "cell_type": "code",
   "execution_count": 68,
   "metadata": {},
   "outputs": [
    {
     "data": {
      "text/plain": [
       "40.295248065073075"
      ]
     },
     "execution_count": 68,
     "metadata": {},
     "output_type": "execute_result"
    }
   ],
   "source": [
    "np.sqrt(mean_squared_error(best_model.predict(dtest), y_test))"
   ]
  },
  {
   "cell_type": "code",
   "execution_count": 69,
   "metadata": {},
   "outputs": [],
   "source": [
    "best_model.save_model(\"my_model.model\")"
   ]
  },
  {
   "cell_type": "code",
   "execution_count": 88,
   "metadata": {},
   "outputs": [
    {
     "data": {
      "text/plain": [
       "['xgbmodel.h5']"
      ]
     },
     "execution_count": 88,
     "metadata": {},
     "output_type": "execute_result"
    }
   ],
   "source": [
    "import joblib\n",
    "file = \"xgbmodel.h5\"\n",
    "joblib.dump(\"my_model.model\", file)"
   ]
  },
  {
   "cell_type": "code",
   "execution_count": 78,
   "metadata": {},
   "outputs": [],
   "source": [
    "best_model.save_model(\"XGBoost_model.h5\")"
   ]
  },
  {
   "cell_type": "code",
   "execution_count": 79,
   "metadata": {},
   "outputs": [
    {
     "name": "stdout",
     "output_type": "stream",
     "text": [
      "true = [130  95 120 125 190]\n",
      "pred = [ 89.70972   78.06408   96.122955  66.714264 164.38577 ]\n"
     ]
    }
   ],
   "source": [
    "loaded_model = xgb.Booster()\n",
    "loaded_model.load_model(\"XGBoost_model.h5\")\n",
    "\n",
    "y_test_pred =loaded_model.predict(dtest)\n",
    "print(f'true = {np.array(y_test)[:5]}')\n",
    "print(f'pred = {y_test_pred[:5]}')\n"
   ]
  },
  {
   "cell_type": "code",
   "execution_count": 80,
   "metadata": {},
   "outputs": [
    {
     "name": "stdout",
     "output_type": "stream",
     "text": [
      "0.5042321136545949\n"
     ]
    }
   ],
   "source": [
    "from sklearn.metrics import r2_score\n",
    "\n",
    "print(r2_score(y_test,y_test_pred))"
   ]
  },
  {
   "cell_type": "code",
   "execution_count": 81,
   "metadata": {
    "scrolled": true
   },
   "outputs": [
    {
     "data": {
      "text/plain": [
       "<AxesSubplot:title={'center':'Feature importance'}, xlabel='F score', ylabel='Features'>"
      ]
     },
     "execution_count": 81,
     "metadata": {},
     "output_type": "execute_result"
    },
    {
     "data": {
      "image/png": "[encoded data removed]",
      "text/plain": [
       "<Figure size 432x288 with 1 Axes>"
      ]
     },
     "metadata": {
      "needs_background": "light"
     },
     "output_type": "display_data"
    }
   ],
   "source": [
    "from xgboost import plot_importance, plot_tree\n",
    "plot_importance(loaded_model,ax=plt.gca())"
   ]
  },
  {
   "cell_type": "code",
   "execution_count": 82,
   "metadata": {},
   "outputs": [
    {
     "data": {
      "text/plain": [
       "<matplotlib.legend.Legend at 0x25a1aa72a20>"
      ]
     },
     "execution_count": 82,
     "metadata": {},
     "output_type": "execute_result"
    },
    {
     "data": {
      "image/png": "[encoded data removed]",
      "text/plain": [
       "<Figure size 864x432 with 1 Axes>"
      ]
     },
     "metadata": {
      "needs_background": "light"
     },
     "output_type": "display_data"
    }
   ],
   "source": [
    "fig1 = plt.figure(figsize=(12, 6))\n",
    "\n",
    "sns.histplot( y_test, color=\"blue\", label=\"original\", kde= True)\n",
    "sns.histplot(y_test_pred, color=\"red\", label=\"predicted\", kde=True)\n",
    "\n",
    "plt.xlabel(\"Price\")\n",
    "plt.legend()\n",
    "\n"
   ]
  },
  {
   "cell_type": "code",
   "execution_count": 83,
   "metadata": {},
   "outputs": [],
   "source": [
    "fig1.savefig('Graphs/XGBoost_Comparision.png')"
   ]
  },
  {
   "cell_type": "code",
   "execution_count": 84,
   "metadata": {},
   "outputs": [],
   "source": [
    "y_train_pred = loaded_model.predict(dtrain)\n",
    "\n",
    "test = pd.DataFrame({\"test prediction\": y_test_pred, \"test\": y_test})\n",
    "train =pd.DataFrame({\"train prediction\": y_train_pred, \"train\": y_train})"
   ]
  },
  {
   "cell_type": "code",
   "execution_count": 85,
   "metadata": {
    "scrolled": false
   },
   "outputs": [
    {
     "data": {
      "image/png": "[encoded data removed]",
      "text/plain": [
       "<Figure size 864x432 with 1 Axes>"
      ]
     },
     "metadata": {
      "needs_background": "light"
     },
     "output_type": "display_data"
    }
   ],
   "source": [
    "fig2 = plt.figure(figsize=(12, 6))\n",
    "\n",
    "sns.scatterplot(data = test, x=test[\"test prediction\"], y=test[\"test prediction\"] - test[\"test\"], label=\"Testing Data\")\n",
    "sns.scatterplot(data = train, x=train[\"train prediction\"], y=train[\"train prediction\"] - train[\"train\"], label=\"Training Data\")\n",
    "\n",
    "\n",
    "#plt.legend()\n",
    "plt.hlines(y=0, xmin=test[\"test\"].min(), xmax=test[\"test\"].max())\n",
    "\n",
    "plt.title(\"Residual Plot\")\n",
    "plt.show()"
   ]
  },
  {
   "cell_type": "code",
   "execution_count": 77,
   "metadata": {},
   "outputs": [],
   "source": [
    "fig2.savefig('Graphs/XGBoost_Comparision2.png')"
   ]
  },
  {
   "cell_type": "code",
   "execution_count": null,
   "metadata": {},
   "outputs": [],
   "source": []
  }
 ],
 "metadata": {
  "kernelspec": {
   "display_name": "Python [conda env:PythonAdv] *",
   "language": "python",
   "name": "conda-env-PythonAdv-py"
  },
  "language_info": {
   "codemirror_mode": {
    "name": "ipython",
    "version": 3
   },
   "file_extension": ".py",
   "mimetype": "text/x-python",
   "name": "python",
   "nbconvert_exporter": "python",
   "pygments_lexer": "ipython3",
   "version": "3.6.12"
  }
 },
 "nbformat": 4,
 "nbformat_minor": 4
}
